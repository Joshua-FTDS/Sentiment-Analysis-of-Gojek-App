{
 "cells": [
  {
   "cell_type": "markdown",
   "metadata": {},
   "source": [
    "# 1. Import Libraries"
   ]
  },
  {
   "cell_type": "code",
   "execution_count": 1,
   "metadata": {},
   "outputs": [
    {
     "name": "stdout",
     "output_type": "stream",
     "text": [
      "WARNING:tensorflow:From c:\\Users\\User\\miniconda3\\lib\\site-packages\\keras\\src\\losses.py:2976: The name tf.losses.sparse_softmax_cross_entropy is deprecated. Please use tf.compat.v1.losses.sparse_softmax_cross_entropy instead.\n",
      "\n"
     ]
    }
   ],
   "source": [
    "import kagglehub\n",
    "import pandas as pd\n",
    "import numpy as np\n",
    "import seaborn as sns\n",
    "import matplotlib.pyplot as plt\n",
    "\n",
    "from sklearn.model_selection import train_test_split\n",
    "from sklearn.feature_extraction.text import CountVectorizer\n",
    "from sklearn.metrics import classification_report, precision_score, recall_score, accuracy_score, f1_score\n",
    "from sklearn.preprocessing import StandardScaler, LabelEncoder\n",
    "from sklearn.feature_extraction.text import TfidfVectorizer\n",
    "from sklearn.ensemble import RandomForestClassifier\n",
    "from sklearn.linear_model import LogisticRegression\n",
    "from sklearn.naive_bayes import MultinomialNB\n",
    "from sklearn.svm import SVC\n",
    "from sklearn.neighbors import KNeighborsClassifier\n",
    "from imblearn.under_sampling import RandomUnderSampler\n",
    "from imblearn.pipeline import Pipeline as ImbPipeline\n",
    "from sklearn.compose import ColumnTransformer\n",
    "from imblearn.pipeline import Pipeline\n",
    "\n",
    "import re\n",
    "import nltk\n",
    "import string\n",
    "import os\n",
    "from nltk.tokenize import word_tokenize\n",
    "from nltk.corpus import stopwords\n",
    "from nlp_id.lemmatizer import Lemmatizer\n",
    "from indoNLP.preprocessing import replace_slang, replace_word_elongation\n",
    "from Sastrawi.Stemmer.StemmerFactory import StemmerFactory\n",
    "from tensorflow.keras.utils import to_categorical\n",
    "from tensorflow.keras.models import Sequential\n",
    "from tensorflow.keras.layers import Dense, LSTM, Bidirectional, GRU, Dropout, Reshape\n",
    "import tensorflow as tf\n",
    "import tensorflow_hub as tf_hub\n",
    "import warnings"
   ]
  },
  {
   "cell_type": "markdown",
   "metadata": {},
   "source": [
    "# 2. Data Loading"
   ]
  },
  {
   "cell_type": "code",
   "execution_count": 2,
   "metadata": {},
   "outputs": [
    {
     "name": "stdout",
     "output_type": "stream",
     "text": [
      "Path to dataset files: C:\\Users\\User\\.cache\\kagglehub\\datasets\\ucupsedaya\\gojek-app-reviews-bahasa-indonesia\\versions\\2\n"
     ]
    }
   ],
   "source": [
    "# Download dataset\n",
    "dataset = kagglehub.dataset_download(\"ucupsedaya/gojek-app-reviews-bahasa-indonesia\")\n",
    "\n",
    "print(\"Path to dataset files:\", dataset)"
   ]
  },
  {
   "cell_type": "code",
   "execution_count": 3,
   "metadata": {},
   "outputs": [
    {
     "data": {
      "text/html": [
       "<div>\n",
       "<style scoped>\n",
       "    .dataframe tbody tr th:only-of-type {\n",
       "        vertical-align: middle;\n",
       "    }\n",
       "\n",
       "    .dataframe tbody tr th {\n",
       "        vertical-align: top;\n",
       "    }\n",
       "\n",
       "    .dataframe thead th {\n",
       "        text-align: right;\n",
       "    }\n",
       "</style>\n",
       "<table border=\"1\" class=\"dataframe\">\n",
       "  <thead>\n",
       "    <tr style=\"text-align: right;\">\n",
       "      <th></th>\n",
       "      <th>userName</th>\n",
       "      <th>content</th>\n",
       "      <th>score</th>\n",
       "      <th>at</th>\n",
       "      <th>appVersion</th>\n",
       "    </tr>\n",
       "  </thead>\n",
       "  <tbody>\n",
       "    <tr>\n",
       "      <th>0</th>\n",
       "      <td>Yuga Edit</td>\n",
       "      <td>akun gopay saya di blok</td>\n",
       "      <td>1</td>\n",
       "      <td>2022-01-21 10:52:12</td>\n",
       "      <td>4.9.3</td>\n",
       "    </tr>\n",
       "    <tr>\n",
       "      <th>1</th>\n",
       "      <td>ff burik</td>\n",
       "      <td>Lambat sekali sekarang ini bosssku apk gojek g...</td>\n",
       "      <td>3</td>\n",
       "      <td>2021-11-30 15:40:38</td>\n",
       "      <td>4.9.3</td>\n",
       "    </tr>\n",
       "    <tr>\n",
       "      <th>2</th>\n",
       "      <td>Anisa Suci Rahmayuliani</td>\n",
       "      <td>Kenapa sih dari kemarin sy buka aplikasi gojek...</td>\n",
       "      <td>4</td>\n",
       "      <td>2021-11-29 22:58:12</td>\n",
       "      <td>4.9.3</td>\n",
       "    </tr>\n",
       "    <tr>\n",
       "      <th>3</th>\n",
       "      <td>naoki yakuza</td>\n",
       "      <td>Baru download gojek dan hape baru trus ditop u...</td>\n",
       "      <td>1</td>\n",
       "      <td>2022-09-03 15:21:17</td>\n",
       "      <td>4.9.3</td>\n",
       "    </tr>\n",
       "    <tr>\n",
       "      <th>4</th>\n",
       "      <td>Trio Sugianto</td>\n",
       "      <td>Mantap</td>\n",
       "      <td>5</td>\n",
       "      <td>2022-01-15 10:05:27</td>\n",
       "      <td>4.9.3</td>\n",
       "    </tr>\n",
       "  </tbody>\n",
       "</table>\n",
       "</div>"
      ],
      "text/plain": [
       "                  userName                                            content  \\\n",
       "0                Yuga Edit                            akun gopay saya di blok   \n",
       "1                 ff burik  Lambat sekali sekarang ini bosssku apk gojek g...   \n",
       "2  Anisa Suci Rahmayuliani  Kenapa sih dari kemarin sy buka aplikasi gojek...   \n",
       "3             naoki yakuza  Baru download gojek dan hape baru trus ditop u...   \n",
       "4            Trio Sugianto                                             Mantap   \n",
       "\n",
       "   score                   at appVersion  \n",
       "0      1  2022-01-21 10:52:12      4.9.3  \n",
       "1      3  2021-11-30 15:40:38      4.9.3  \n",
       "2      4  2021-11-29 22:58:12      4.9.3  \n",
       "3      1  2022-09-03 15:21:17      4.9.3  \n",
       "4      5  2022-01-15 10:05:27      4.9.3  "
      ]
     },
     "execution_count": 3,
     "metadata": {},
     "output_type": "execute_result"
    }
   ],
   "source": [
    "path = r\"C:\\Users\\User\\.cache\\kagglehub\\datasets\\ucupsedaya\\gojek-app-reviews-bahasa-indonesia\\versions\\2\\GojekAppReviewV4.0.0-V4.9.3_Cleaned.csv\"\n",
    "data = pd.read_csv(path)\n",
    "data.head(5)"
   ]
  },
  {
   "cell_type": "markdown",
   "metadata": {},
   "source": [
    "# 3. Exploratory Data Analysis (EDA)"
   ]
  },
  {
   "cell_type": "markdown",
   "metadata": {},
   "source": [
    "## 3.1 Dataset Details"
   ]
  },
  {
   "cell_type": "code",
   "execution_count": 4,
   "metadata": {},
   "outputs": [
    {
     "name": "stdout",
     "output_type": "stream",
     "text": [
      "<class 'pandas.core.frame.DataFrame'>\n",
      "RangeIndex: 225002 entries, 0 to 225001\n",
      "Data columns (total 5 columns):\n",
      " #   Column      Non-Null Count   Dtype \n",
      "---  ------      --------------   ----- \n",
      " 0   userName    225002 non-null  object\n",
      " 1   content     225000 non-null  object\n",
      " 2   score       225002 non-null  int64 \n",
      " 3   at          225002 non-null  object\n",
      " 4   appVersion  225002 non-null  object\n",
      "dtypes: int64(1), object(4)\n",
      "memory usage: 8.6+ MB\n"
     ]
    }
   ],
   "source": [
    "data.info()"
   ]
  },
  {
   "cell_type": "code",
   "execution_count": 5,
   "metadata": {},
   "outputs": [
    {
     "data": {
      "image/png": "[encoded data removed]",
      "text/plain": [
       "<Figure size 700x700 with 1 Axes>"
      ]
     },
     "metadata": {},
     "output_type": "display_data"
    }
   ],
   "source": [
    "# Menghitung frekuensi masing-masing rating\n",
    "rating_counts = data['score'].value_counts().sort_index()\n",
    "\n",
    "# Label untuk setiap rating\n",
    "rating_labels = ['1 Star', '2 Stars', '3 Stars', '4 Stars', '5 Stars']\n",
    "\n",
    "# Membuat fungsi untuk menampilkan jumlah dan persentase\n",
    "def autopct_func(pct, allvalues):\n",
    "    absolute = round(pct / 100.*sum(allvalues), 0)\n",
    "    return f\"{int(absolute)} ({pct:.1f}%)\"\n",
    "\n",
    "# Membuat pie chart\n",
    "plt.figure(figsize=(7, 7))\n",
    "plt.pie(rating_counts, labels=rating_labels, autopct=lambda pct: autopct_func(pct, rating_counts), startangle=140, colors=sns.color_palette(\"Set2\", 5))\n",
    "plt.title('Distribusi Rating')\n",
    "plt.axis('equal')  # Untuk memastikan pie chart berbentuk lingkaran\n",
    "plt.show()"
   ]
  },
  {
   "cell_type": "markdown",
   "metadata": {},
   "source": [
    "# 4. Feature Engineering"
   ]
  },
  {
   "cell_type": "code",
   "execution_count": 6,
   "metadata": {},
   "outputs": [],
   "source": [
    "# Mengabaikan semua peringatan\n",
    "warnings.filterwarnings(\"ignore\")"
   ]
  },
  {
   "cell_type": "code",
   "execution_count": 7,
   "metadata": {},
   "outputs": [
    {
     "data": {
      "text/plain": [
       "0"
      ]
     },
     "execution_count": 7,
     "metadata": {},
     "output_type": "execute_result"
    }
   ],
   "source": [
    "# check data duplicate\n",
    "data.duplicated().sum()"
   ]
  },
  {
   "cell_type": "code",
   "execution_count": 8,
   "metadata": {},
   "outputs": [],
   "source": [
    "# remove unused column\n",
    "df = data.drop(columns=['userName', 'at'])"
   ]
  },
  {
   "cell_type": "code",
   "execution_count": 9,
   "metadata": {},
   "outputs": [],
   "source": [
    "# Menambahkan kolom 'label' berdasarkan nilai score\n",
    "df['label'] = df['score'].apply(lambda x: 'negative' if x in [1, 2] else ('positive' if x in [4, 5] else None))\n",
    "\n",
    "# Menghapus baris dengan score = 3\n",
    "df = df[df['score'] != 3]"
   ]
  },
  {
   "cell_type": "code",
   "execution_count": 10,
   "metadata": {},
   "outputs": [
    {
     "data": {
      "text/html": [
       "<div>\n",
       "<style scoped>\n",
       "    .dataframe tbody tr th:only-of-type {\n",
       "        vertical-align: middle;\n",
       "    }\n",
       "\n",
       "    .dataframe tbody tr th {\n",
       "        vertical-align: top;\n",
       "    }\n",
       "\n",
       "    .dataframe thead th {\n",
       "        text-align: right;\n",
       "    }\n",
       "</style>\n",
       "<table border=\"1\" class=\"dataframe\">\n",
       "  <thead>\n",
       "    <tr style=\"text-align: right;\">\n",
       "      <th></th>\n",
       "      <th>content</th>\n",
       "      <th>score</th>\n",
       "      <th>appVersion</th>\n",
       "      <th>label</th>\n",
       "    </tr>\n",
       "  </thead>\n",
       "  <tbody>\n",
       "    <tr>\n",
       "      <th>0</th>\n",
       "      <td>akun gopay saya di blok</td>\n",
       "      <td>1</td>\n",
       "      <td>4.9.3</td>\n",
       "      <td>negative</td>\n",
       "    </tr>\n",
       "    <tr>\n",
       "      <th>2</th>\n",
       "      <td>Kenapa sih dari kemarin sy buka aplikasi gojek...</td>\n",
       "      <td>4</td>\n",
       "      <td>4.9.3</td>\n",
       "      <td>positive</td>\n",
       "    </tr>\n",
       "    <tr>\n",
       "      <th>3</th>\n",
       "      <td>Baru download gojek dan hape baru trus ditop u...</td>\n",
       "      <td>1</td>\n",
       "      <td>4.9.3</td>\n",
       "      <td>negative</td>\n",
       "    </tr>\n",
       "    <tr>\n",
       "      <th>4</th>\n",
       "      <td>Mantap</td>\n",
       "      <td>5</td>\n",
       "      <td>4.9.3</td>\n",
       "      <td>positive</td>\n",
       "    </tr>\n",
       "    <tr>\n",
       "      <th>5</th>\n",
       "      <td>Bagus</td>\n",
       "      <td>4</td>\n",
       "      <td>4.9.3</td>\n",
       "      <td>positive</td>\n",
       "    </tr>\n",
       "  </tbody>\n",
       "</table>\n",
       "</div>"
      ],
      "text/plain": [
       "                                             content  score appVersion  \\\n",
       "0                            akun gopay saya di blok      1      4.9.3   \n",
       "2  Kenapa sih dari kemarin sy buka aplikasi gojek...      4      4.9.3   \n",
       "3  Baru download gojek dan hape baru trus ditop u...      1      4.9.3   \n",
       "4                                             Mantap      5      4.9.3   \n",
       "5                                              Bagus      4      4.9.3   \n",
       "\n",
       "      label  \n",
       "0  negative  \n",
       "2  positive  \n",
       "3  negative  \n",
       "4  positive  \n",
       "5  positive  "
      ]
     },
     "execution_count": 10,
     "metadata": {},
     "output_type": "execute_result"
    }
   ],
   "source": [
    "df.head()"
   ]
  },
  {
   "cell_type": "code",
   "execution_count": 11,
   "metadata": {},
   "outputs": [
    {
     "data": {
      "image/png": "[encoded data removed]",
      "text/plain": [
       "<Figure size 700x700 with 1 Axes>"
      ]
     },
     "metadata": {},
     "output_type": "display_data"
    }
   ],
   "source": [
    "# Hitung distribusi label (positive vs negative)\n",
    "label_counts = df['label'].value_counts()\n",
    "\n",
    "# Fungsi untuk menampilkan jumlah dan persentase\n",
    "def autopct_func(pct, allvals):\n",
    "    absolute = round(pct / 100. * sum(allvals), 0)\n",
    "    return f\"{int(absolute)} ({pct:.1f}%)\"\n",
    "\n",
    "# Membuat pie chart untuk distribusi positive dan negative\n",
    "plt.figure(figsize=(7, 7))\n",
    "plt.pie(label_counts, labels=label_counts.index, autopct=lambda pct: autopct_func(pct, label_counts), startangle=140, colors=sns.color_palette(\"Set2\", 2))\n",
    "plt.title('Distribusi Label Sentimen (Positive vs Negative)')\n",
    "plt.axis('equal')  # Untuk memastikan pie chart berbentuk lingkaran\n",
    "plt.show()"
   ]
  },
  {
   "cell_type": "code",
   "execution_count": 12,
   "metadata": {},
   "outputs": [],
   "source": [
    "# Define Stopwords\n",
    "stpwds_id = list(set(stopwords.words('indonesian')))\n",
    "\n",
    "# Define Stemming\n",
    "stemmer = StemmerFactory().create_stemmer()\n",
    "\n",
    "# Inisialisasi lemmatizer\n",
    "lemmatizer = Lemmatizer()"
   ]
  },
  {
   "cell_type": "code",
   "execution_count": 13,
   "metadata": {},
   "outputs": [],
   "source": [
    "def text_preprocessing(text):\n",
    "    if not isinstance(text, str):  # Pastikan input adalah string\n",
    "        return \"\"\n",
    "\n",
    "    # Ganti slang terlebih dahulu\n",
    "    text = replace_slang(text)\n",
    "\n",
    "    # Ganti elongasi kata (contoh: 'ssuuuuper' menjadi 'super')\n",
    "    text = replace_word_elongation(text)\n",
    "    \n",
    "    # Case folding: mengubah semua huruf menjadi kecil\n",
    "    text = text.lower()\n",
    "\n",
    "    # Menghapus mention (contoh: @username)\n",
    "    text = re.sub(r\"@[A-Za-z0-9_]+\", \" \", text)\n",
    "\n",
    "    # Menghapus username (dalam kasus ini, 'username' dihapus)\n",
    "    text = re.sub(r'username', '', text)\n",
    "\n",
    "    # Menghapus hashtag (contoh: #hashtag)\n",
    "    text = re.sub(r\"#[A-Za-z0-9_]+\", \" \", text)\n",
    "\n",
    "    # Menghapus newline\n",
    "    text = re.sub(r\"\\n\", \" \", text)\n",
    "\n",
    "    # Menghapus URL\n",
    "    text = re.sub(r\"http\\S+|www\\S+\", \" \", text)\n",
    "\n",
    "    # Menghapus karakter non-huruf (hanya huruf dan spasi yang diperbolehkan)\n",
    "    text = re.sub(r\"[^A-Za-z\\s']\", \" \", text)\n",
    "\n",
    "    # Tokenisasi\n",
    "    tokens = word_tokenize(text)\n",
    "\n",
    "    # Menghapus stopwords\n",
    "    tokens = [word for word in tokens if word not in stpwds_id]\n",
    "\n",
    "    # Lemmatization\n",
    "    tokens = [lemmatizer.lemmatize(word) for word in tokens]\n",
    "\n",
    "    # Menggabungkan kembali tokens menjadi satu teks\n",
    "    text = ' '.join(tokens)\n",
    "\n",
    "    return text"
   ]
  },
  {
   "cell_type": "code",
   "execution_count": 14,
   "metadata": {},
   "outputs": [
    {
     "data": {
      "text/html": [
       "<div>\n",
       "<style scoped>\n",
       "    .dataframe tbody tr th:only-of-type {\n",
       "        vertical-align: middle;\n",
       "    }\n",
       "\n",
       "    .dataframe tbody tr th {\n",
       "        vertical-align: top;\n",
       "    }\n",
       "\n",
       "    .dataframe thead th {\n",
       "        text-align: right;\n",
       "    }\n",
       "</style>\n",
       "<table border=\"1\" class=\"dataframe\">\n",
       "  <thead>\n",
       "    <tr style=\"text-align: right;\">\n",
       "      <th></th>\n",
       "      <th>content</th>\n",
       "      <th>score</th>\n",
       "      <th>appVersion</th>\n",
       "      <th>label</th>\n",
       "      <th>text_processed</th>\n",
       "    </tr>\n",
       "  </thead>\n",
       "  <tbody>\n",
       "    <tr>\n",
       "      <th>0</th>\n",
       "      <td>akun gopay saya di blok</td>\n",
       "      <td>1</td>\n",
       "      <td>4.9.3</td>\n",
       "      <td>negative</td>\n",
       "      <td>akun gopay blok</td>\n",
       "    </tr>\n",
       "    <tr>\n",
       "      <th>2</th>\n",
       "      <td>Kenapa sih dari kemarin sy buka aplikasi gojek...</td>\n",
       "      <td>4</td>\n",
       "      <td>4.9.3</td>\n",
       "      <td>positive</td>\n",
       "      <td>sih kemarin buka aplikasi gojek kasih bintang ...</td>\n",
       "    </tr>\n",
       "    <tr>\n",
       "      <th>3</th>\n",
       "      <td>Baru download gojek dan hape baru trus ditop u...</td>\n",
       "      <td>1</td>\n",
       "      <td>4.9.3</td>\n",
       "      <td>negative</td>\n",
       "      <td>download gojek hape top lu gopay transaksi dia...</td>\n",
       "    </tr>\n",
       "    <tr>\n",
       "      <th>4</th>\n",
       "      <td>Mantap</td>\n",
       "      <td>5</td>\n",
       "      <td>4.9.3</td>\n",
       "      <td>positive</td>\n",
       "      <td>mantap</td>\n",
       "    </tr>\n",
       "    <tr>\n",
       "      <th>5</th>\n",
       "      <td>Bagus</td>\n",
       "      <td>4</td>\n",
       "      <td>4.9.3</td>\n",
       "      <td>positive</td>\n",
       "      <td>bagus</td>\n",
       "    </tr>\n",
       "    <tr>\n",
       "      <th>...</th>\n",
       "      <td>...</td>\n",
       "      <td>...</td>\n",
       "      <td>...</td>\n",
       "      <td>...</td>\n",
       "      <td>...</td>\n",
       "    </tr>\n",
       "    <tr>\n",
       "      <th>224997</th>\n",
       "      <td>Gofood Biaya lain2ya gak ngotak mending hujan2...</td>\n",
       "      <td>1</td>\n",
       "      <td>4.0.0</td>\n",
       "      <td>negative</td>\n",
       "      <td>gofood biaya ya ngotak mending hujan an beli m...</td>\n",
       "    </tr>\n",
       "    <tr>\n",
       "      <th>224998</th>\n",
       "      <td>Yok lah</td>\n",
       "      <td>5</td>\n",
       "      <td>4.0.0</td>\n",
       "      <td>positive</td>\n",
       "      <td>yuk</td>\n",
       "    </tr>\n",
       "    <tr>\n",
       "      <th>224999</th>\n",
       "      <td>Sempurna</td>\n",
       "      <td>5</td>\n",
       "      <td>4.0.0</td>\n",
       "      <td>positive</td>\n",
       "      <td>sempurna</td>\n",
       "    </tr>\n",
       "    <tr>\n",
       "      <th>225000</th>\n",
       "      <td>GOJEK LAMA LAMA GAK JELAS  LAGI PESEN MASA MAP...</td>\n",
       "      <td>1</td>\n",
       "      <td>4.0.0</td>\n",
       "      <td>negative</td>\n",
       "      <td>gojek pesan mapsnya hilang layar putih nama ke...</td>\n",
       "    </tr>\n",
       "    <tr>\n",
       "      <th>225001</th>\n",
       "      <td>Good</td>\n",
       "      <td>5</td>\n",
       "      <td>4.0.0</td>\n",
       "      <td>positive</td>\n",
       "      <td>good</td>\n",
       "    </tr>\n",
       "  </tbody>\n",
       "</table>\n",
       "<p>215542 rows × 5 columns</p>\n",
       "</div>"
      ],
      "text/plain": [
       "                                                  content  score appVersion  \\\n",
       "0                                 akun gopay saya di blok      1      4.9.3   \n",
       "2       Kenapa sih dari kemarin sy buka aplikasi gojek...      4      4.9.3   \n",
       "3       Baru download gojek dan hape baru trus ditop u...      1      4.9.3   \n",
       "4                                                  Mantap      5      4.9.3   \n",
       "5                                                   Bagus      4      4.9.3   \n",
       "...                                                   ...    ...        ...   \n",
       "224997  Gofood Biaya lain2ya gak ngotak mending hujan2...      1      4.0.0   \n",
       "224998                                            Yok lah      5      4.0.0   \n",
       "224999                                           Sempurna      5      4.0.0   \n",
       "225000  GOJEK LAMA LAMA GAK JELAS  LAGI PESEN MASA MAP...      1      4.0.0   \n",
       "225001                                               Good      5      4.0.0   \n",
       "\n",
       "           label                                     text_processed  \n",
       "0       negative                                    akun gopay blok  \n",
       "2       positive  sih kemarin buka aplikasi gojek kasih bintang ...  \n",
       "3       negative  download gojek hape top lu gopay transaksi dia...  \n",
       "4       positive                                             mantap  \n",
       "5       positive                                              bagus  \n",
       "...          ...                                                ...  \n",
       "224997  negative  gofood biaya ya ngotak mending hujan an beli m...  \n",
       "224998  positive                                                yuk  \n",
       "224999  positive                                           sempurna  \n",
       "225000  negative  gojek pesan mapsnya hilang layar putih nama ke...  \n",
       "225001  positive                                               good  \n",
       "\n",
       "[215542 rows x 5 columns]"
      ]
     },
     "execution_count": 14,
     "metadata": {},
     "output_type": "execute_result"
    }
   ],
   "source": [
    "# Applying Text Preprocessing to the Dataset\n",
    "\n",
    "df['text_processed'] = df['content'].apply(lambda x: text_preprocessing(x))\n",
    "df"
   ]
  },
  {
   "cell_type": "markdown",
   "metadata": {},
   "source": [
    "## 4. Splitting Traing & Test"
   ]
  },
  {
   "cell_type": "code",
   "execution_count": 15,
   "metadata": {},
   "outputs": [],
   "source": [
    "# Membuat dataframe df_clean yang hanya berisi kolom text_processed dan label\n",
    "df_clean = df[['text_processed', 'label']]"
   ]
  },
  {
   "cell_type": "code",
   "execution_count": 16,
   "metadata": {},
   "outputs": [],
   "source": [
    "# Encode label 'label' menjadi angka\n",
    "le = LabelEncoder()\n",
    "df_clean['label'] = le.fit_transform(df_clean['label'])"
   ]
  },
  {
   "cell_type": "code",
   "execution_count": 17,
   "metadata": {},
   "outputs": [],
   "source": [
    "# Membagi data menjadi fitur (X) dan target (y)\n",
    "X = df_clean[['text_processed']]  # Hanya menggunakan kolom 'text_processed' untuk fitur\n",
    "y = df_clean['label']"
   ]
  },
  {
   "cell_type": "code",
   "execution_count": 18,
   "metadata": {},
   "outputs": [],
   "source": [
    "# splitting data untuk train dan test set\n",
    "X_train, X_test, y_train, y_test = train_test_split(X,\n",
    "                                                    y,\n",
    "                                                    test_size=0.2,\n",
    "                                                    random_state=42)"
   ]
  },
  {
   "cell_type": "markdown",
   "metadata": {},
   "source": [
    "# 5. Modeling With Machine Learning"
   ]
  },
  {
   "cell_type": "code",
   "execution_count": 19,
   "metadata": {},
   "outputs": [],
   "source": [
    "# 3. Membuat transformer untuk text\n",
    "text_transformer = Pipeline([\n",
    "    ('tfidf', TfidfVectorizer())\n",
    "])"
   ]
  },
  {
   "cell_type": "code",
   "execution_count": 20,
   "metadata": {},
   "outputs": [],
   "source": [
    "# 4. Membuat preprocessor hanya untuk text (tidak ada scaling atau fitur numerik lainnya)\n",
    "preprocessor = ColumnTransformer(\n",
    "    transformers=[\n",
    "        ('text', text_transformer, 'text_processed')  # Hanya transformasi teks\n",
    "    ])"
   ]
  },
  {
   "cell_type": "code",
   "execution_count": 21,
   "metadata": {},
   "outputs": [],
   "source": [
    "# Mendefinisikan pipeline untuk berbagai model\n",
    "pipelines = {\n",
    "    'logistic_regression': ImbPipeline([\n",
    "        ('preprocessor', preprocessor),\n",
    "        ('sampling', RandomUnderSampler(random_state=42)),\n",
    "        ('classifier', LogisticRegression(random_state=42))\n",
    "    ]),\n",
    "\n",
    "    'naive_bayes': ImbPipeline([\n",
    "        ('preprocessor', preprocessor),  # Gunakan preprocessor yang sama\n",
    "        ('sampling', RandomUnderSampler(random_state=42)),\n",
    "        ('classifier', MultinomialNB())\n",
    "    ]),\n",
    "\n",
    "    'knn': ImbPipeline([\n",
    "        ('preprocessor', preprocessor),\n",
    "        ('sampling', RandomUnderSampler(random_state=42)),\n",
    "        ('classifier', KNeighborsClassifier())\n",
    "    ]),\n",
    "\n",
    "    'svm': ImbPipeline([\n",
    "        ('preprocessor', preprocessor),\n",
    "        ('sampling', RandomUnderSampler(random_state=42)),\n",
    "        ('classifier', SVC(random_state=42))\n",
    "    ]),\n",
    "\n",
    "    'random_forest': ImbPipeline([\n",
    "        ('preprocessor', preprocessor),\n",
    "        ('sampling', RandomUnderSampler(random_state=42)),\n",
    "        ('classifier', RandomForestClassifier(random_state=42))\n",
    "    ])\n",
    "}"
   ]
  },
  {
   "cell_type": "markdown",
   "metadata": {},
   "source": [
    "# 6. Model Evaluation"
   ]
  },
  {
   "cell_type": "markdown",
   "metadata": {},
   "source": [
    "## 6.1 Classification Report"
   ]
  },
  {
   "cell_type": "code",
   "execution_count": 22,
   "metadata": {},
   "outputs": [
    {
     "name": "stdout",
     "output_type": "stream",
     "text": [
      "\n",
      "Training logistic_regression...\n",
      "\n",
      "Classification Report for logistic_regression:\n",
      "              precision    recall  f1-score   support\n",
      "\n",
      "           0       0.76      0.93      0.84     10675\n",
      "           1       0.97      0.90      0.94     32434\n",
      "\n",
      "    accuracy                           0.91     43109\n",
      "   macro avg       0.87      0.92      0.89     43109\n",
      "weighted avg       0.92      0.91      0.91     43109\n",
      "\n",
      "\n",
      "Training naive_bayes...\n",
      "\n",
      "Classification Report for naive_bayes:\n",
      "              precision    recall  f1-score   support\n",
      "\n",
      "           0       0.64      0.96      0.77     10675\n",
      "           1       0.99      0.82      0.90     32434\n",
      "\n",
      "    accuracy                           0.86     43109\n",
      "   macro avg       0.81      0.89      0.83     43109\n",
      "weighted avg       0.90      0.86      0.87     43109\n",
      "\n",
      "\n",
      "Training knn...\n",
      "\n",
      "Classification Report for knn:\n",
      "              precision    recall  f1-score   support\n",
      "\n",
      "           0       0.72      0.51      0.60     10675\n",
      "           1       0.85      0.93      0.89     32434\n",
      "\n",
      "    accuracy                           0.83     43109\n",
      "   macro avg       0.79      0.72      0.74     43109\n",
      "weighted avg       0.82      0.83      0.82     43109\n",
      "\n",
      "\n",
      "Training svm...\n",
      "\n",
      "Classification Report for svm:\n",
      "              precision    recall  f1-score   support\n",
      "\n",
      "           0       0.75      0.94      0.84     10675\n",
      "           1       0.98      0.90      0.94     32434\n",
      "\n",
      "    accuracy                           0.91     43109\n",
      "   macro avg       0.87      0.92      0.89     43109\n",
      "weighted avg       0.92      0.91      0.91     43109\n",
      "\n",
      "\n",
      "Training random_forest...\n",
      "\n",
      "Classification Report for random_forest:\n",
      "              precision    recall  f1-score   support\n",
      "\n",
      "           0       0.72      0.93      0.82     10675\n",
      "           1       0.98      0.88      0.93     32434\n",
      "\n",
      "    accuracy                           0.90     43109\n",
      "   macro avg       0.85      0.91      0.87     43109\n",
      "weighted avg       0.91      0.90      0.90     43109\n",
      "\n"
     ]
    }
   ],
   "source": [
    "# 7. Training dan evaluasi\n",
    "for name, pipeline in pipelines.items():\n",
    "    print(f\"\\nTraining {name}...\")\n",
    "    \n",
    "    # Fit\n",
    "    pipeline.fit(X_train, y_train)\n",
    "    \n",
    "    # Predict\n",
    "    y_pred = pipeline.predict(X_test)\n",
    "    \n",
    "    # Evaluate\n",
    "    print(f\"\\nClassification Report for {name}:\")\n",
    "    print(classification_report(y_test, y_pred))"
   ]
  },
  {
   "cell_type": "markdown",
   "metadata": {},
   "source": [
    "## 6.2 Confusion Matrix"
   ]
  },
  {
   "cell_type": "code",
   "execution_count": 23,
   "metadata": {},
   "outputs": [],
   "source": [
    "# from sklearn.metrics import confusion_matrix, ConfusionMatrixDisplay\n",
    "# # Misalkan Anda memiliki pipelines yang sudah didefinisikan seperti 'logistic_regression' dan 'svm'\n",
    "# for model_name, pipeline in pipelines.items():\n",
    "#     # Fit model pada training set\n",
    "#     pipeline.fit(X_train, y_train)  # Pastikan untuk fit pipeline pada training data\n",
    "    \n",
    "#     # Prediksi pada test set\n",
    "#     y_pred = pipeline.predict(X_test)  # Gunakan pipeline untuk melakukan prediksi\n",
    "    \n",
    "#     # Hitung dan tampilkan confusion matrix\n",
    "#     cm = confusion_matrix(y_test, y_pred)  # Hitung confusion matrix\n",
    "#     disp = ConfusionMatrixDisplay(confusion_matrix=cm, display_labels=le.classes_)  # Menampilkan confusion matrix\n",
    "#     disp.plot(cmap='Blues')  # Plot confusion matrix dengan warna biru\n",
    "    \n",
    "#     print(f\"Confusion Matrix for {model_name}:\")\n",
    "#     print(cm)"
   ]
  },
  {
   "cell_type": "markdown",
   "metadata": {},
   "source": [
    "## 6.3 Cross-Validation"
   ]
  },
  {
   "cell_type": "code",
   "execution_count": 24,
   "metadata": {},
   "outputs": [],
   "source": [
    "# # Membuat pipeline untuk model dan preprocessing\n",
    "# # Di dalam pipeline, kita akan menggunakan TF-IDF untuk teks, scaling untuk 'score', \n",
    "# # dan RandomUnderSampler untuk under-sampling\n",
    "\n",
    "# # 1. TF-IDF untuk 'text_processed'\n",
    "# # 2. StandardScaler untuk 'score'\n",
    "# # 3. Under-sampling untuk mengatasi imbalance\n",
    "# # 4. Beberapa model machine learning: Logistic Regression, Naive Bayes, KNN, SVM, dan Random Forest\n",
    "\n",
    "# # Membuat pipeline untuk Logistic Regression, Naive Bayes, KNN, SVM, dan Random Forest\n",
    "\n",
    "# # Menyesuaikan StandardScaler untuk sparse matrix\n",
    "# pipelines = {\n",
    "#     'logistic_regression': ImbPipeline([\n",
    "#         ('sampling', RandomUnderSampler(random_state=42)),\n",
    "#         ('preprocessor', ColumnTransformer([\n",
    "#             ('text', TfidfVectorizer(), 'text_processed'),  # TF-IDF untuk kolom text_processed\n",
    "#             ('score', StandardScaler(with_mean=False), 'score')  # Scaling untuk kolom score dengan with_mean=False\n",
    "#         ])),\n",
    "#         ('clf', LogisticRegression(max_iter=1000, random_state=42))  # Logistic Regression\n",
    "#     ]),\n",
    "#     'naive_bayes': ImbPipeline([\n",
    "#         ('sampling', RandomUnderSampler(random_state=42)),\n",
    "#         ('preprocessor', ColumnTransformer([\n",
    "#             ('text', TfidfVectorizer(), 'text_processed'),\n",
    "#             ('score', StandardScaler(with_mean=False), 'score')  # Scaling untuk kolom score dengan with_mean=False\n",
    "#         ])),\n",
    "#         ('clf', MultinomialNB())  # Naive Bayes\n",
    "#     ]),\n",
    "#     'knn': ImbPipeline([\n",
    "#         ('sampling', RandomUnderSampler(random_state=42)),\n",
    "#         ('preprocessor', ColumnTransformer([\n",
    "#             ('text', TfidfVectorizer(), 'text_processed'),\n",
    "#             ('score', StandardScaler(with_mean=False), 'score')  # Scaling untuk kolom score dengan with_mean=False\n",
    "#         ])),\n",
    "#         ('clf', KNeighborsClassifier())  # K-Nearest Neighbors\n",
    "#     ]),\n",
    "#     'svm': ImbPipeline([\n",
    "#         ('sampling', RandomUnderSampler(random_state=42)),\n",
    "#         ('preprocessor', ColumnTransformer([\n",
    "#             ('text', TfidfVectorizer(), 'text_processed'),\n",
    "#             ('score', StandardScaler(with_mean=False), 'score')  # Scaling untuk kolom score dengan with_mean=False\n",
    "#         ])),\n",
    "#         ('clf', SVC(random_state=42))  # Support Vector Machine\n",
    "#     ]),\n",
    "#     'random_forest': ImbPipeline([\n",
    "#         ('sampling', RandomUnderSampler(random_state=42)),\n",
    "#         ('preprocessor', ColumnTransformer([\n",
    "#             ('text', TfidfVectorizer(), 'text_processed'),\n",
    "#             ('score', StandardScaler(with_mean=False), 'score')  # Scaling untuk kolom score dengan with_mean=False\n",
    "#         ])),\n",
    "#         ('clf', RandomForestClassifier(random_state=42))  # Random Forest\n",
    "#     ])\n",
    "# }"
   ]
  },
  {
   "cell_type": "markdown",
   "metadata": {},
   "source": [
    "# 7. Model Inference"
   ]
  },
  {
   "cell_type": "markdown",
   "metadata": {},
   "source": []
  },
  {
   "cell_type": "code",
   "execution_count": 35,
   "metadata": {},
   "outputs": [
    {
     "name": "stdout",
     "output_type": "stream",
     "text": [
      "Prediksi menggunakan model: logistic_regression\n",
      "Hasil prediksi untuk logistic_regression: [1 1 1 1 1 1 0 0 1 1 0 0]\n",
      "Hasil prediksi dengan label asli: ['positive' 'positive' 'positive' 'positive' 'positive' 'positive'\n",
      " 'negative' 'negative' 'positive' 'positive' 'negative' 'negative']\n",
      "\n",
      "\n",
      "Prediksi menggunakan model: naive_bayes\n",
      "Hasil prediksi untuk naive_bayes: [1 1 1 1 1 0 0 0 0 0 0 0]\n",
      "Hasil prediksi dengan label asli: ['positive' 'positive' 'positive' 'positive' 'positive' 'negative'\n",
      " 'negative' 'negative' 'negative' 'negative' 'negative' 'negative']\n",
      "\n",
      "\n",
      "Prediksi menggunakan model: knn\n",
      "Hasil prediksi untuk knn: [1 1 0 1 1 1 0 1 1 1 1 1]\n",
      "Hasil prediksi dengan label asli: ['positive' 'positive' 'negative' 'positive' 'positive' 'positive'\n",
      " 'negative' 'positive' 'positive' 'positive' 'positive' 'positive']\n",
      "\n",
      "\n",
      "Prediksi menggunakan model: svm\n",
      "Hasil prediksi untuk svm: [1 1 1 1 1 1 0 0 1 0 0 0]\n",
      "Hasil prediksi dengan label asli: ['positive' 'positive' 'positive' 'positive' 'positive' 'positive'\n",
      " 'negative' 'negative' 'positive' 'negative' 'negative' 'negative']\n",
      "\n",
      "\n",
      "Prediksi menggunakan model: random_forest\n",
      "Hasil prediksi untuk random_forest: [0 0 1 0 1 1 0 0 0 1 0 0]\n",
      "Hasil prediksi dengan label asli: ['negative' 'negative' 'positive' 'negative' 'positive' 'positive'\n",
      " 'negative' 'negative' 'negative' 'positive' 'negative' 'negative']\n",
      "\n",
      "\n"
     ]
    }
   ],
   "source": [
    "# Contoh data baru untuk inferensi\n",
    "data_baru = pd.DataFrame({\n",
    "    'text_processed': [\"Saya sangat puas dengan layanan Gojek, driver selalu cepat datang dan pelayanan sangat ramah. Aplikasi juga sangat mudah digunakan.\", \n",
    "                       \"Gojek sangat membantu saya dalam keseharian, terutama di tengah kemacetan. Driver selalu tepat waktu dan terpercaya!\", \n",
    "                       \"Gojek memberikan pengalaman yang luar biasa, saya merasa nyaman menggunakan layanan mereka. Pesanan makanan selalu cepat sampai!\", \n",
    "                       \"Sangat senang dengan fitur Gopay yang memudahkan pembayaran, dan saya juga sering mendapat promo menarik dari Gojek!\",\n",
    "                       \"Layanan antar barang menggunakan Gojek sangat efisien. Pengiriman cepat dan trackingnya juga sangat akurat.\",\n",
    "                       \"mantap, selalu error gabisa diharapkan\",\n",
    "                       \"Aplikasi Gojek sering mengalami gangguan, saya sering tidak bisa masuk atau aplikasi freeze saat memesan.\",\n",
    "                       \"Harga yang dibebankan untuk layanan Gojek terkadang tidak sesuai dengan jarak yang ditempuh, merasa terlalu mahal untuk beberapa perjalanan.\",\n",
    "                       \"Driver Gojek saya beberapa kali tidak ramah dan bahkan tidak sabar menunggu saat saya masih dalam perjalanan menuju titik jemput.\",\n",
    "                       \"Seringkali saya mendapat pengemudi yang tidak mengerti rute, jadi perjalanan saya jadi lebih lama dari yang seharusnya.\",\n",
    "                       \"Customer service Gojek susah dihubungi, dan masalah saya tidak kunjung selesai meskipun sudah menghubungi mereka beberapa kali.\",\n",
    "                       \"keren nih gojek, selalu bikin orang marah pakenya\",\n",
    "                       ]\n",
    "})\n",
    "\n",
    "# Melakukan inferensi\n",
    "X_baru = data_baru[['text_processed']]  # Data baru harus sesuai dengan format input\n",
    "\n",
    "# Melakukan prediksi untuk setiap model dalam pipeline\n",
    "for model_name, pipeline in pipelines.items():\n",
    "    print(f\"Prediksi menggunakan model: {model_name}\")\n",
    "    \n",
    "    # Melakukan inferensi (prediksi) pada data baru\n",
    "    y_pred_baru = pipeline.predict(X_baru)\n",
    "    \n",
    "    # Menampilkan hasil prediksi\n",
    "    print(f\"Hasil prediksi untuk {model_name}: {y_pred_baru}\")\n",
    "    \n",
    "    # Mengonversi hasil prediksi ke label asli jika diperlukan\n",
    "    y_pred_baru_label = le.inverse_transform(y_pred_baru)\n",
    "    print(f\"Hasil prediksi dengan label asli: {y_pred_baru_label}\")\n",
    "    print(\"\\n\")"
   ]
  },
  {
   "cell_type": "code",
   "execution_count": 26,
   "metadata": {},
   "outputs": [],
   "source": [
    "# # Melatih model dengan masing-masing pipeline dan evaluasi hasilnya\n",
    "# for model_name, pipeline in pipelines.items():\n",
    "#     print(f\"\\nTraining model: {model_name}\")\n",
    "    \n",
    "#     # Melatih pipeline (gunakan X_train sebagai DataFrame 2D dengan dua kolom)\n",
    "#     pipeline.fit(X_train[['text_processed', 'score']], y_train)  # X_train harus menjadi DataFrame 2D\n",
    "    \n",
    "#     # Prediksi pada data testing (gunakan X_test sebagai DataFrame 2D dengan dua kolom)\n",
    "#     y_pred = pipeline.predict(X_test[['text_processed', 'score']])  # X_test harus menjadi DataFrame 2D\n",
    "    \n",
    "#     # Evaluasi model\n",
    "#     print(f\"Classification report for {model_name}:\\n\")\n",
    "#     print(classification_report(y_test, y_pred))"
   ]
  },
  {
   "cell_type": "markdown",
   "metadata": {},
   "source": [
    "# 8. Modeling With Deep Learning"
   ]
  },
  {
   "cell_type": "code",
   "execution_count": null,
   "metadata": {},
   "outputs": [],
   "source": []
  }
 ],
 "metadata": {
  "kernelspec": {
   "display_name": "base",
   "language": "python",
   "name": "python3"
  },
  "language_info": {
   "codemirror_mode": {
    "name": "ipython",
    "version": 3
   },
   "file_extension": ".py",
   "mimetype": "text/x-python",
   "name": "python",
   "nbconvert_exporter": "python",
   "pygments_lexer": "ipython3",
   "version": "3.9.19"
  }
 },
 "nbformat": 4,
 "nbformat_minor": 2
}
